{
 "cells": [
  {
   "cell_type": "code",
   "execution_count": null,
   "metadata": {},
   "outputs": [],
   "source": [
    "import pandas as pd\n",
    "import numpy as np\n",
    "import matplotlib.pyplot as plt\n",
    "import math\n",
    "from sklearn.model_selection import train_test_split\n",
    "import seaborn as sns\n",
    "from sklearn.model_selection import cross_val_score\n",
    "from sklearn.tree import DecisionTreeClassifier\n",
    "from sklearn.dummy import DummyClassifier\n",
    "from sklearn.metrics import accuracy_score, precision_score\n",
    "from sklearn.metrics import classification_report\n"
   ]
  },
  {
   "cell_type": "code",
   "execution_count": null,
   "metadata": {},
   "outputs": [],
   "source": [
    "wine_base = pd.read_csv(\"Our_dataset/StemmedWord2vecTop3_parsed_weather_labeled.csv\", index_col=0)\n",
    "wine_base = wine_base.reset_index()\n",
    "wine_base= wine_base[pd.notnull(wine_base['description'])]\n",
    "wine_base"
   ]
  },
  {
   "cell_type": "code",
   "execution_count": null,
   "metadata": {},
   "outputs": [],
   "source": [
    "fig, ax = plt.subplots(figsize = (12, 5))\n",
    "sns.distplot(wine_base[\"points\"],hist=True,bins = 20,hist_kws={'edgecolor':'black'})"
   ]
  },
  {
   "cell_type": "markdown",
   "metadata": {},
   "source": [
    "# DEFINE NUMBER OF BINS"
   ]
  },
  {
   "cell_type": "code",
   "execution_count": null,
   "metadata": {},
   "outputs": [],
   "source": [
    "Y = wine_base['points'].copy()\n",
    "#DECIDE NUMBER OF BINS \n",
    "#bins = 5\n",
    "#labels=[\"very_low\", \"low\", \"medium\",\"high\",\"very_high\"]\n",
    "bins  = 3\n",
    "labels=[\"low\",\"medium\",\"high\"]\n",
    "Y = pd.cut(Y,bins,labels=labels)  "
   ]
  },
  {
   "cell_type": "code",
   "execution_count": null,
   "metadata": {},
   "outputs": [],
   "source": [
    "Y"
   ]
  },
  {
   "cell_type": "code",
   "execution_count": null,
   "metadata": {},
   "outputs": [],
   "source": [
    "basic = ['vintage', 'country', 'price', 'province', 'region_1', 'taster_name', 'variety','winery']\n",
    "word = [\"word_count\"]\n",
    "tfGroup = ['tf_grouped_1','tf_grouped_2', 'tf_grouped_3']\n",
    "tfIdfGroup = ['tfIdf_grouped_1', 'tfIdf_grouped_2', 'tfIdf_grouped_3']\n",
    "tfFull = ['tf_fullData_1', 'tf_fullData_2', 'tf_fullData_3',]\n",
    "tfIdfFull = ['tfIdf_fullData_1', 'tfIdf_fullData_2', 'tfIdf_fullData_3']\n",
    "weather = ['pr_5', 'pr_6', 'pr_7', 'pr_8', 'pr_9', 'tas_5', 'tas_6', 'tas_7', 'tas_8', 'tas_9']\n",
    "word2vec = ['similarityTop3WinesByVariety']"
   ]
  },
  {
   "cell_type": "code",
   "execution_count": null,
   "metadata": {},
   "outputs": [],
   "source": [
    "features = basic + word + word2vec + tfGroup + weather\n",
    "X = wine_base.loc[:,features]\n",
    "X.columns"
   ]
  },
  {
   "cell_type": "markdown",
   "metadata": {},
   "source": [
    "# REAL CLASSIFIER"
   ]
  },
  {
   "cell_type": "code",
   "execution_count": null,
   "metadata": {},
   "outputs": [],
   "source": [
    "test_size = 0.30\n",
    "X_train, X_test, y_train, y_test = train_test_split(X, Y, test_size=test_size, random_state=42)\n",
    "classifier = DecisionTreeClassifier()\n",
    "classifier.fit(X_train,y_train)\n",
    "y_pred = classifier.predict(X_test)  \n",
    "acc = accuracy_score(y_test,y_pred)\n",
    "weightedPrec = precision_score(y_test,y_pred,average=\"weighted\")\n",
    "#get feature importances\n",
    "lista = []\n",
    "for name, importance in zip(features, classifier.feature_importances_):\n",
    "    lista.append([name, importance])"
   ]
  },
  {
   "cell_type": "code",
   "execution_count": null,
   "metadata": {},
   "outputs": [],
   "source": [
    "print(classification_report(y_test, y_pred, target_names=labels))"
   ]
  },
  {
   "cell_type": "markdown",
   "metadata": {},
   "source": [
    "check AUC, feature selection, and data with sparse matrix"
   ]
  },
  {
   "cell_type": "markdown",
   "metadata": {},
   "source": [
    "file = open(\"classification\" + str(bins) + \"bins.txt\",\"a\")\n",
    "file.write(\"Decision Tree Classifier with points divided into \" + str(bins) + \" bins \\n\")\n",
    "file.write(\"Built on: \" + str(features) + \"\\n\")\n",
    "file.write(\"Test size: \" + str(test_size) + \"\\n\")\n",
    "file.write(\"   \" +\"accuracy \" + str(acc) + \"\\n\")\n",
    "file.write(\"   \" +\"weightedPrec \" + str(weightedPrec) + \"\\n\")\n",
    "file.write(\"Feature importances: \\n\")\n",
    "for el in lista: \n",
    "    file.write(\"   \" + el[0] + \":   \" + str(el[1]) + \"\\n\")\n",
    "file.write(\"Report By predicted class: \\n\")\n",
    "file.write(classification_report(y_test, y_pred, target_names=labels))\n",
    "file.close()"
   ]
  },
  {
   "cell_type": "markdown",
   "metadata": {},
   "source": [
    "# DUMMY CLASSIFIER = BASELINE"
   ]
  },
  {
   "cell_type": "code",
   "execution_count": null,
   "metadata": {},
   "outputs": [],
   "source": [
    "test_size = 0.30\n",
    "X_train, X_test, y_train, y_test = train_test_split(X, Y, test_size=test_size, random_state=42)\n",
    "#classifier = DecisionTreeClassifier()\n",
    "classifier = DummyClassifier(\"stratified\")\n",
    "classifier.fit(X_train,y_train)\n",
    "y_pred = classifier.predict(X_test)  \n",
    "acc = accuracy_score(y_test,y_pred)\n",
    "weightedPrec = precision_score(y_test,y_pred,average=\"weighted\")\n",
    "#get feature importances\n",
    "lista = []\n",
    "#for name, importance in zip(features, classifier.feature_importances_):\n",
    " #   lista.append([name, importance])"
   ]
  },
  {
   "cell_type": "markdown",
   "metadata": {},
   "source": [
    "file = open(\"dummyClassifier.txt\",\"a\")\n",
    "file.write(\"Decision Tree Classifier with points divided into \" + str(bins) + \" bins \\n\")\n",
    "file.write(\"Built on: \" + str(features) + \"\\n\")\n",
    "file.write(\"Test size: \" + str(test_size) + \"\\n\")\n",
    "file.write(\"   \" +\"accuracy \" + str(acc) + \"\\n\")\n",
    "file.write(\"   \" +\"weightedPrec \" + str(weightedPrec) + \"\\n\")\n",
    "#file.write(\"Feature importances: \\n\")\n",
    "#for el in lista: \n",
    "#file.write(\"   \" + el[0] + \":   \" + str(el[1]) + \"\\n\")\n",
    "file.write(\"Report By predicted class: \\n\")\n",
    "file.write(classification_report(y_test, y_pred, target_names=labels))\n",
    "file.close()"
   ]
  }
 ],
 "metadata": {
  "kernelspec": {
   "display_name": "Python 3",
   "language": "python",
   "name": "python3"
  },
  "language_info": {
   "codemirror_mode": {
    "name": "ipython",
    "version": 3
   },
   "file_extension": ".py",
   "mimetype": "text/x-python",
   "name": "python",
   "nbconvert_exporter": "python",
   "pygments_lexer": "ipython3",
   "version": "3.6.6"
  }
 },
 "nbformat": 4,
 "nbformat_minor": 2
}
